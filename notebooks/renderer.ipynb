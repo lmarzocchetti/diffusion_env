{
 "cells": [
  {
   "cell_type": "code",
   "execution_count": 2,
   "metadata": {},
   "outputs": [],
   "source": [
    "import numpy as np\n",
    "import OpenEXR\n",
    "import pywt\n",
    "\n",
    "from Imath import PixelType\n",
    "from scipy.sparse import bsr_array, csr_array, save_npz, load_npz\n",
    "\n",
    "\n",
    "IMG_WIDTH, IMG_HEIGHT = 512, 256\n",
    "ENV_WIDTH, ENV_HEIGHT = 512, 256"
   ]
  },
  {
   "cell_type": "code",
   "execution_count": 2,
   "metadata": {},
   "outputs": [],
   "source": [
    "def load_exr(filename):\n",
    "  exr = OpenEXR.InputFile(filename)\n",
    "  dw = exr.header()['dataWindow']\n",
    "  width = dw.max.x - dw.min.x + 1\n",
    "  height = dw.max.y - dw.min.y + 1\n",
    "\n",
    "  img = np.zeros((height, width, 3), dtype=np.float32)\n",
    "  for i, c in enumerate('RGB'):\n",
    "    buffer = exr.channel(c, PixelType(OpenEXR.FLOAT))\n",
    "    img[:, :, i] = np.frombuffer(buffer, dtype=np.float32).reshape(height, width)\n",
    "\n",
    "  exr.close()\n",
    "  return img\n",
    "\n",
    "\n",
    "def save_exr(filename, img):\n",
    "  height, width, _ = img.shape\n",
    "  header = OpenEXR.Header(width, height)\n",
    "  exr = OpenEXR.OutputFile(filename, header)\n",
    "  \n",
    "  r, g, b = np.split(img, 3, axis=-1)\n",
    "  exr.writePixels({'R': r.tobytes(),\n",
    "                   'G': g.tobytes(),\n",
    "                   'B': b.tobytes()})\n",
    "  exr.close()"
   ]
  },
  {
   "cell_type": "code",
   "execution_count": null,
   "metadata": {},
   "outputs": [],
   "source": [
    "T = np.zeros((IMG_WIDTH * IMG_HEIGHT, ENV_WIDTH * ENV_HEIGHT // 2), dtype=np.float32)\n",
    "\n",
    "for idx, (i, j) in enumerate(np.ndindex(ENV_HEIGHT // 2, ENV_WIDTH)):\n",
    "  img = load_exr(f'../out/renderer/{i:03d},{j:03}.exr')\n",
    "  # Con un img colorata togliere il [:, :, 0] che seleziona solo 1 canale, ma devo selezionarli tutti e 3\n",
    "  coeffs = pywt.wavedec2(img[:, :, 0], 'haar')\n",
    "  coeff_arr, coeff_slices = pywt.coeffs_to_array(coeffs)\n",
    "  T[:, idx] = coeff_arr.ravel()"
   ]
  },
  {
   "cell_type": "code",
   "execution_count": 15,
   "metadata": {},
   "outputs": [
    {
     "data": {
      "text/plain": [
       "(256, 512, 3)"
      ]
     },
     "execution_count": 15,
     "metadata": {},
     "output_type": "execute_result"
    }
   ],
   "source": [
    "asdasd = load_exr(f'../out/renderer/{i:03d},{j:03}.exr')\n",
    "asdasd.shape"
   ]
  },
  {
   "cell_type": "code",
   "execution_count": 5,
   "metadata": {},
   "outputs": [
    {
     "name": "stdout",
     "output_type": "stream",
     "text": [
      "(256, 512, 3)\n"
     ]
    }
   ],
   "source": [
    "img = np.zeros((IMG_HEIGHT, IMG_WIDTH, 3), dtype=np.float32)\n",
    "print(img.shape)\n",
    "coeffs = pywt.wavedec2(img[:, :, 0], \"haar\")\n",
    "_, coeff_slices = pywt.coeffs_to_array(coeffs)"
   ]
  },
  {
   "cell_type": "code",
   "execution_count": null,
   "metadata": {},
   "outputs": [],
   "source": [
    "for idx, (i, j) in enumerate(np.ndindex(ENV_HEIGHT // 2, ENV_WIDTH)):\n",
    "    if i == 8 and j == 75:\n",
    "        print(f\"{idx}\")"
   ]
  },
  {
   "cell_type": "code",
   "execution_count": null,
   "metadata": {},
   "outputs": [],
   "source": [
    "T = np.zeros((IMG_WIDTH * IMG_HEIGHT, ENV_WIDTH * ENV_HEIGHT // 2), dtype=np.float32)"
   ]
  },
  {
   "cell_type": "code",
   "execution_count": null,
   "metadata": {},
   "outputs": [],
   "source": [
    "img = load_exr('../out/renderer/064,256.exr')\n",
    "coeffs = pywt.wavedec2(img, 'haar', axes=(0, 1))\n",
    "coeff_arr, _ = pywt.coeffs_to_array(coeffs, axes=(0, 1))\n",
    "save_exr('../img.exr', img)\n",
    "save_exr('../coeff.exr', coeff_arr)"
   ]
  },
  {
   "cell_type": "code",
   "execution_count": 4,
   "metadata": {},
   "outputs": [
    {
     "data": {
      "text/plain": [
       "1.0"
      ]
     },
     "execution_count": 4,
     "metadata": {},
     "output_type": "execute_result"
    }
   ],
   "source": [
    "np.count_nonzero(coeff_arr) / coeff_arr.size"
   ]
  },
  {
   "cell_type": "code",
   "execution_count": 5,
   "metadata": {},
   "outputs": [
    {
     "data": {
      "text/plain": [
       "np.float64(0.05841827392578125)"
      ]
     },
     "execution_count": 5,
     "metadata": {},
     "output_type": "execute_result"
    }
   ],
   "source": [
    "(coeff_arr.size - np.isclose(coeff_arr, 0, atol=5e-4).sum()) / coeff_arr.size"
   ]
  },
  {
   "cell_type": "code",
   "execution_count": null,
   "metadata": {},
   "outputs": [],
   "source": [
    "EPS = 5e-4\n",
    "T[np.isclose(T, 0, atol=EPS)] = 0"
   ]
  },
  {
   "cell_type": "code",
   "execution_count": null,
   "metadata": {},
   "outputs": [],
   "source": [
    "T_bsr = bsr_array(T, dtype=np.float32)\n",
    "T_csr = csr_array(T, dtype=np.float32)"
   ]
  },
  {
   "cell_type": "code",
   "execution_count": null,
   "metadata": {},
   "outputs": [],
   "source": [
    "print(T.nbytes * 1e-9, (T_bsr.data.nbytes + T_bsr.indptr.nbytes + T_bsr.indices.nbytes) * 1e-9,\n",
    "      (T_csr.data.nbytes + T_csr.indptr.nbytes + T_csr.indices.nbytes) * 1e-9)"
   ]
  },
  {
   "cell_type": "code",
   "execution_count": null,
   "metadata": {},
   "outputs": [],
   "source": [
    "save_npz('../T_bsr.npz', T_bsr)"
   ]
  },
  {
   "cell_type": "code",
   "execution_count": null,
   "metadata": {},
   "outputs": [],
   "source": [
    "save_npz('../T_csr.npz', T_csr)"
   ]
  },
  {
   "cell_type": "markdown",
   "metadata": {},
   "source": [
    "### SECONDO SCRIPT"
   ]
  },
  {
   "cell_type": "code",
   "execution_count": null,
   "metadata": {},
   "outputs": [],
   "source": [
    "T_csr = load_npz(\"../T_csr.npz\")\n",
    "T_bsr = load_npz(\"../T_bsr.npz\")"
   ]
  },
  {
   "cell_type": "code",
   "execution_count": null,
   "metadata": {},
   "outputs": [],
   "source": [
    "# Runna questa\n",
    "L = load_exr('../resources/meadow_2_90deg.exr')\n",
    "L = L[:ENV_HEIGHT // 2, :, :].reshape(-1, 3)\n",
    "\n",
    "B = T_bsr @ L * 1e-4 # Fare una costante 1e-4\n",
    "\n",
    "B = B.reshape(IMG_HEIGHT, IMG_WIDTH, 3)\n",
    "coeffs = pywt.array_to_coeffs(B, coeff_slices, output_format='wavedec2')\n",
    "B = pywt.waverec2(coeffs, 'haar', axes=(0, 1))\n",
    "\n",
    "save_exr('../out.exr', B)"
   ]
  },
  {
   "cell_type": "code",
   "execution_count": 7,
   "metadata": {},
   "outputs": [],
   "source": [
    "# Non Runnare se runni quella sopra\n",
    "L = load_exr('../resources/meadow_2_90deg.exr')# .reshape(-1, 3)\n",
    "\n",
    "L = L[:ENV_HEIGHT // 2, :, :].reshape(-1, 3)\n",
    "\n",
    "B = T @ L * 1e-4\n",
    "\n",
    "save_exr('../out.exr', B.reshape(IMG_HEIGHT, IMG_WIDTH, 3))"
   ]
  },
  {
   "cell_type": "code",
   "execution_count": 8,
   "metadata": {},
   "outputs": [],
   "source": [
    "stroke_img = load_exr(f'../resources/stroke.exr').reshape(-1, 3)\n",
    "\n",
    "in_stroke = (1, 0, 0)\n",
    "out_stroke = (0, 1, 0)\n",
    "\n",
    "X_in = np.all(stroke_img == in_stroke, axis=-1)\n",
    "X_out = np.all(stroke_img == out_stroke, axis=-1)"
   ]
  },
  {
   "cell_type": "code",
   "execution_count": 9,
   "metadata": {},
   "outputs": [],
   "source": [
    "T_in = np.mean(T[X_in, :], axis=0)\n",
    "T_out = np.mean(T[X_out, :], axis=0)\n",
    "\n",
    "delta = T_out[:, None] * L - T_in[:, None] * L"
   ]
  },
  {
   "cell_type": "code",
   "execution_count": null,
   "metadata": {},
   "outputs": [],
   "source": [
    "# Per salvare l'albedo io devo caricare la scena blender\n",
    "# Andare su \"View layer\" e attivare Diffuse:Color e salvare il render (che sarebbe l'albedo)\n",
    "p = load_exr('../resources/albedo.exr').reshape(-1, 3)\n",
    "\n",
    "L_avg = np.mean(L, axis=0)\n",
    "p_avg = np.mean(p, axis=0)\n",
    "\n",
    "L_f = np.any(delta > 0.8 * L_avg * p_avg, axis=-1)\n",
    "L_b = ~L_f"
   ]
  },
  {
   "cell_type": "code",
   "execution_count": null,
   "metadata": {},
   "outputs": [],
   "source": [
    "# Me la salvo intera non a meta\n",
    "env = L.copy()\n",
    "# env = load_exr('../resources/meadow_2_90deg.exr').reshape(-1, 3)\n",
    "env[L_f, :] = (1, 0, 0)\n",
    "ENV_HEIGHT, ENV_WIDTH = 512, 256\n",
    "# ENV_HEIGHT, ENV_WIDTH = 256, 256\n",
    "save_exr('../env.exr', env.reshape(ENV_HEIGHT // 2, ENV_WIDTH, 3))\n",
    "\n",
    "mask = np.zeros_like(L, dtype=np.float32)\n",
    "mask[L_f, :] = 1.0\n",
    "mask_img = np.zeros((ENV_HEIGHT, ENV_WIDTH, 3), dtype=np.float32)\n",
    "mask_img[:ENV_HEIGHT // 2, :, :] = mask.reshape(ENV_HEIGHT // 2, ENV_WIDTH, 3)"
   ]
  },
  {
   "cell_type": "code",
   "execution_count": 13,
   "metadata": {},
   "outputs": [],
   "source": [
    "ENV_HEIGHT = ENV_HEIGHT // 2\n",
    "f = np.zeros_like(L, dtype=np.float32)\n",
    "b = np.zeros_like(L, dtype=np.float32)\n",
    "mask = np.zeros_like(L, dtype=np.float32)\n",
    "\n",
    "f[L_f, :] = L[L_f, :]\n",
    "b[L_b, :] = L[L_b, :]\n",
    "\n",
    "f_edit = np.roll(f.reshape(ENV_HEIGHT, ENV_WIDTH, 3), -ENV_WIDTH // 2, axis=1).reshape(-1, 3)\n",
    "L_edit = np.where(f_edit > 0, f_edit, b)\n",
    "\n",
    "mask[L_f, :] = 1.0\n",
    "mask[f_edit > 0] = 1.0"
   ]
  },
  {
   "cell_type": "code",
   "execution_count": 14,
   "metadata": {},
   "outputs": [],
   "source": [
    "B_edit = T @ L_edit * 1e-4\n",
    "\n",
    "save_exr('../env.exr', L_edit.reshape(ENV_HEIGHT, ENV_WIDTH, 3))\n",
    "save_exr('../mask.exr', mask.reshape(ENV_HEIGHT, ENV_WIDTH, 3))\n",
    "save_exr('../out.exr', B_edit.reshape(IMG_HEIGHT, IMG_WIDTH, 3))"
   ]
  },
  {
   "cell_type": "code",
   "execution_count": null,
   "metadata": {},
   "outputs": [],
   "source": []
  }
 ],
 "metadata": {
  "kernelspec": {
   "display_name": "3.12.8",
   "language": "python",
   "name": "python3"
  },
  "language_info": {
   "codemirror_mode": {
    "name": "ipython",
    "version": 3
   },
   "file_extension": ".py",
   "mimetype": "text/x-python",
   "name": "python",
   "nbconvert_exporter": "python",
   "pygments_lexer": "ipython3",
   "version": "3.12.8"
  }
 },
 "nbformat": 4,
 "nbformat_minor": 2
}
